{
 "metadata": {
  "language_info": {
   "codemirror_mode": {
    "name": "ipython",
    "version": 3
   },
   "file_extension": ".py",
   "mimetype": "text/x-python",
   "name": "python",
   "nbconvert_exporter": "python",
   "pygments_lexer": "ipython3",
   "version": "3.7.7-final"
  },
  "orig_nbformat": 2,
  "kernelspec": {
   "name": "python3",
   "display_name": "Python 3"
  }
 },
 "nbformat": 4,
 "nbformat_minor": 2,
 "cells": [
  {
   "cell_type": "code",
   "execution_count": 2,
   "metadata": {},
   "outputs": [
    {
     "output_type": "stream",
     "name": "stdout",
     "text": [
      "100.00% complete"
     ]
    }
   ],
   "source": [
    "import sc2reader\n",
    "from sc2reader.engine.plugins import APMTracker, ContextLoader, SelectionTracker\n",
    "from sc2reader import events\n",
    "import pandas as pd\n",
    "import glob\n",
    "\n",
    "\n",
    "replays = []\n",
    "paths = [path for path in glob.glob('./_data/**/*.SC2Replay', recursive=True)]\n",
    "\n",
    "count = 10\n",
    "\n",
    "for i, path in enumerate(paths[:count]):\n",
    "    print('\\r%6.2f%% complete' % ((i+1)/count*100), end='', flush=True)\n",
    "    \n",
    "    replay = sc2reader.load_replay(path, engine=sc2reader.engine.GameEngine(plugins=[ContextLoader(), APMTracker(), SelectionTracker()]))\n",
    "    replays.append(replay)"
   ]
  },
  {
   "cell_type": "code",
   "execution_count": 13,
   "metadata": {},
   "outputs": [
    {
     "output_type": "stream",
     "name": "stdout",
     "text": [
      "00.00\tSeither         ChatEvent\tmessage=\"glhf\"\n00.10\tProbe           ChatEvent\tmessage=\"gl hf\"\n14.28\tSeither         ChatEvent\tmessage=\"gg\"\nPlayer 1 - Seither (Terran) Loss\n"
     ]
    }
   ],
   "source": [
    "for event in replays[0].messages:\n",
    "    print('%s\\tmessage=\"%s\"' % (event, event.text))\n",
    "\n",
    "replays[0].players[0].name\n",
    "print(replays[0].players[0], replays[0].players[0].result)"
   ]
  },
  {
   "cell_type": "code",
   "execution_count": 33,
   "metadata": {},
   "outputs": [
    {
     "output_type": "stream",
     "name": "stdout",
     "text": [
      "Player Player 1 - Seither (Terran) left 869 seconds into the game.\nPlayer Player 1 - Seither (Terran) left 1620 seconds into the game.\nPlayer Player 1 - Probe (Protoss) left 978 seconds into the game.\nPlayer Player 2 - Seither (Terran) left 1697 seconds into the game.\n"
     ]
    },
    {
     "output_type": "execute_result",
     "data": {
      "text/plain": [
       "     match_id  ap30s race     name    win  frame  second  \\\n",
       "0           0   95.2    T  Seither  False   1920     120   \n",
       "1           0  156.8    P    Probe   True   1920     120   \n",
       "2           0  117.6    T  Seither  False   2880     180   \n",
       "3           0  124.6    P    Probe   True   2880     180   \n",
       "4           0  109.2    T  Seither  False   4320     270   \n",
       "..        ...    ...  ...      ...    ...    ...     ...   \n",
       "221         3    0.0    T  Seither  False  25920    1620   \n",
       "222         3    0.0    P    Probe   True  26400    1650   \n",
       "223         3    0.0    T  Seither  False  26400    1650   \n",
       "224         3    0.0    P    Probe   True  26880    1680   \n",
       "225         3    0.0    T  Seither  False  26880    1680   \n",
       "\n",
       "     workers_active_count  minerals_collection_rate  vespene_collection_rate  \n",
       "0                      18                       671                      179  \n",
       "1                      19                       895                       67  \n",
       "2                      19                       755                      156  \n",
       "3                      22                       895                      201  \n",
       "4                      22                      1091                      313  \n",
       "..                    ...                       ...                      ...  \n",
       "221                    72                      2071                      492  \n",
       "222                    75                      3163                      940  \n",
       "223                    65                      2239                      403  \n",
       "224                    75                      3191                      940  \n",
       "225                    53                      2155                      201  \n",
       "\n",
       "[226 rows x 10 columns]"
      ],
      "text/html": "<div>\n<style scoped>\n    .dataframe tbody tr th:only-of-type {\n        vertical-align: middle;\n    }\n\n    .dataframe tbody tr th {\n        vertical-align: top;\n    }\n\n    .dataframe thead th {\n        text-align: right;\n    }\n</style>\n<table border=\"1\" class=\"dataframe\">\n  <thead>\n    <tr style=\"text-align: right;\">\n      <th></th>\n      <th>match_id</th>\n      <th>ap30s</th>\n      <th>race</th>\n      <th>name</th>\n      <th>win</th>\n      <th>frame</th>\n      <th>second</th>\n      <th>workers_active_count</th>\n      <th>minerals_collection_rate</th>\n      <th>vespene_collection_rate</th>\n    </tr>\n  </thead>\n  <tbody>\n    <tr>\n      <th>0</th>\n      <td>0</td>\n      <td>95.2</td>\n      <td>T</td>\n      <td>Seither</td>\n      <td>False</td>\n      <td>1920</td>\n      <td>120</td>\n      <td>18</td>\n      <td>671</td>\n      <td>179</td>\n    </tr>\n    <tr>\n      <th>1</th>\n      <td>0</td>\n      <td>156.8</td>\n      <td>P</td>\n      <td>Probe</td>\n      <td>True</td>\n      <td>1920</td>\n      <td>120</td>\n      <td>19</td>\n      <td>895</td>\n      <td>67</td>\n    </tr>\n    <tr>\n      <th>2</th>\n      <td>0</td>\n      <td>117.6</td>\n      <td>T</td>\n      <td>Seither</td>\n      <td>False</td>\n      <td>2880</td>\n      <td>180</td>\n      <td>19</td>\n      <td>755</td>\n      <td>156</td>\n    </tr>\n    <tr>\n      <th>3</th>\n      <td>0</td>\n      <td>124.6</td>\n      <td>P</td>\n      <td>Probe</td>\n      <td>True</td>\n      <td>2880</td>\n      <td>180</td>\n      <td>22</td>\n      <td>895</td>\n      <td>201</td>\n    </tr>\n    <tr>\n      <th>4</th>\n      <td>0</td>\n      <td>109.2</td>\n      <td>T</td>\n      <td>Seither</td>\n      <td>False</td>\n      <td>4320</td>\n      <td>270</td>\n      <td>22</td>\n      <td>1091</td>\n      <td>313</td>\n    </tr>\n    <tr>\n      <th>...</th>\n      <td>...</td>\n      <td>...</td>\n      <td>...</td>\n      <td>...</td>\n      <td>...</td>\n      <td>...</td>\n      <td>...</td>\n      <td>...</td>\n      <td>...</td>\n      <td>...</td>\n    </tr>\n    <tr>\n      <th>221</th>\n      <td>3</td>\n      <td>0.0</td>\n      <td>T</td>\n      <td>Seither</td>\n      <td>False</td>\n      <td>25920</td>\n      <td>1620</td>\n      <td>72</td>\n      <td>2071</td>\n      <td>492</td>\n    </tr>\n    <tr>\n      <th>222</th>\n      <td>3</td>\n      <td>0.0</td>\n      <td>P</td>\n      <td>Probe</td>\n      <td>True</td>\n      <td>26400</td>\n      <td>1650</td>\n      <td>75</td>\n      <td>3163</td>\n      <td>940</td>\n    </tr>\n    <tr>\n      <th>223</th>\n      <td>3</td>\n      <td>0.0</td>\n      <td>T</td>\n      <td>Seither</td>\n      <td>False</td>\n      <td>26400</td>\n      <td>1650</td>\n      <td>65</td>\n      <td>2239</td>\n      <td>403</td>\n    </tr>\n    <tr>\n      <th>224</th>\n      <td>3</td>\n      <td>0.0</td>\n      <td>P</td>\n      <td>Probe</td>\n      <td>True</td>\n      <td>26880</td>\n      <td>1680</td>\n      <td>75</td>\n      <td>3191</td>\n      <td>940</td>\n    </tr>\n    <tr>\n      <th>225</th>\n      <td>3</td>\n      <td>0.0</td>\n      <td>T</td>\n      <td>Seither</td>\n      <td>False</td>\n      <td>26880</td>\n      <td>1680</td>\n      <td>53</td>\n      <td>2155</td>\n      <td>201</td>\n    </tr>\n  </tbody>\n</table>\n<p>226 rows × 10 columns</p>\n</div>"
     },
     "metadata": {},
     "execution_count": 33
    }
   ],
   "source": [
    "data = []\n",
    "\n",
    "attrs_PlayerStatsEvent = ['frame','second','workers_active_count','minerals_collection_rate','vespene_collection_rate']\n",
    "# attrs_UnitPositionsEvent = ['ability_type']\n",
    "\n",
    "super_set = { 'P': set(), 'T': set() }\n",
    "\n",
    "for i, replay in enumerate(replays[:10]):\n",
    "\t# print('\\r%6.2f%% complete' % ((i+1)/count*100), end='', flush=True)\n",
    "\n",
    "\tif len(set([replay.players[0].pick_race[0],replay.players[1].pick_race[0]]) | set(['P','T'])) == 2:\n",
    "\n",
    "\t\tdd = {}\n",
    "\n",
    "\t\tfor event in replay.events:\n",
    "\t\t\tif isinstance(event, events.PlayerLeaveEvent):\n",
    "\t\t\t\tprint('Player', event.player, 'left', event.second, 'seconds into the game.')\n",
    "\t\t\t\tbreak\n",
    "\n",
    "\t\t\tif event.second % 30 == 0:\n",
    "\n",
    "\t\t\t\t# every 10 seconds\n",
    "\t\t\t\tif isinstance(event, events.PlayerStatsEvent):\n",
    "\t\t\t\t\td = {}\n",
    "\n",
    "\t\t\t\t\tis_player_1 = replay.players[1].pid == event.pid\n",
    "\t\t\t\t\tname = replay.players[is_player_1].name\n",
    "\t\t\t\t\trace = replay.players[is_player_1].pick_race[0]\n",
    "\t\t\t\t\twin = replay.players[is_player_1].result == 'Win'\n",
    "\n",
    "\t\t\t\t\tlower_bound = 0 if event.second == 0 else event.second-30\n",
    "\t\t\t\t\tap30s = sum(list(replay.players[is_player_1].aps.values())[lower_bound:event.second])\n",
    "\n",
    "\t\t\t\t\td['match_id'] = i\n",
    "\t\t\t\t\td['ap30s'] = ap30s\n",
    "\t\t\t\t\td['race'] = race\n",
    "\t\t\t\t\td['name'] = name\n",
    "\t\t\t\t\td['win'] = win\n",
    "\n",
    "\t\t\t\t\tfor attr in attrs_PlayerStatsEvent:\n",
    "\t\t\t\t\t\td[attr] = eval('event.' + attr)\n",
    "\t\t\t\t\t\n",
    "\t\t\t\t\tdd[race] = d\n",
    "\n",
    "\t\t\t\t# every 15 seconds\n",
    "\t\t\t\tif isinstance(event, events.UnitPositionsEvent):\n",
    "\t\t\t\t\t# TODO: discriminate between races and map units\n",
    "\n",
    "\t\t\t\t\tdata.extend(list(dd.values()))\n",
    "\t\t\t\t\tdd = {}\n",
    "\n",
    "\t\t\t\t\ts = set([str(a).split(' ')[0] for a in event.units.keys()])\n",
    "\n",
    "\t\t\t\t\tsuper_set['P'] = super_set['P'] | s\n",
    "\t\t\t\t\tsuper_set['T'] = super_set['T'] | s\n",
    "\n",
    "\t\t\t\t\tset_start = False\n",
    "\n",
    "\t# print(super_set)\n",
    "pd.DataFrame(data)"
   ]
  },
  {
   "cell_type": "code",
   "execution_count": 24,
   "metadata": {},
   "outputs": [
    {
     "output_type": "execute_result",
     "data": {
      "text/plain": [
       "dict_keys(['vespene_units', 'supply_units', 'worker_units', 'base_units', 'ground_units', 'air_units', 'tech_units', 'army_units', 'army_air', 'army_ground'])"
      ]
     },
     "metadata": {},
     "execution_count": 24
    }
   ],
   "source": [
    "import pickle\n",
    "\n",
    "with open('pieces.pickle', 'rb') as f:\n",
    "    pieces = pickle.load(f)\n",
    "\n",
    "pieces.keys()"
   ]
  },
  {
   "cell_type": "code",
   "execution_count": 34,
   "metadata": {},
   "outputs": [
    {
     "output_type": "execute_result",
     "data": {
      "text/plain": [
       "{'Adept',\n",
       " 'Archon',\n",
       " 'Colossus',\n",
       " 'Cyclone',\n",
       " 'DarkTemplar',\n",
       " 'Disruptor',\n",
       " 'Ghost',\n",
       " 'Hellion',\n",
       " 'Immortal',\n",
       " 'LiberatorAG',\n",
       " 'MULE',\n",
       " 'Marauder',\n",
       " 'Marine',\n",
       " 'Medivac',\n",
       " 'Observer',\n",
       " 'ObserverSiegeMode',\n",
       " 'Oracle',\n",
       " 'OrbitalCommand',\n",
       " 'OrbitalCommandFlying',\n",
       " 'Phoenix',\n",
       " 'PlanetaryFortress',\n",
       " 'Probe',\n",
       " 'Raven',\n",
       " 'Reaper',\n",
       " 'SCV',\n",
       " 'Sentry',\n",
       " 'SiegeTank',\n",
       " 'SiegeTankSieged',\n",
       " 'Stalker',\n",
       " 'Starport',\n",
       " 'Viking',\n",
       " 'WarpPrism',\n",
       " 'WarpPrismPhasing',\n",
       " 'WidowMine',\n",
       " 'WidowMineBurrowed',\n",
       " 'Zealot'}"
      ]
     },
     "metadata": {},
     "execution_count": 34
    }
   ],
   "source": [
    "super_set"
   ]
  },
  {
   "cell_type": "code",
   "execution_count": null,
   "metadata": {},
   "outputs": [],
   "source": []
  }
 ]
}