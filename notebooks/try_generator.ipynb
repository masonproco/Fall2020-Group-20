{
 "metadata": {
  "language_info": {
   "codemirror_mode": {
    "name": "ipython",
    "version": 3
   },
   "file_extension": ".py",
   "mimetype": "text/x-python",
   "name": "python",
   "nbconvert_exporter": "python",
   "pygments_lexer": "ipython3",
   "version": "3.8.5-final"
  },
  "orig_nbformat": 2,
  "kernelspec": {
   "name": "python3",
   "display_name": "Python 3",
   "language": "python"
  }
 },
 "nbformat": 4,
 "nbformat_minor": 2,
 "cells": [
  {
   "cell_type": "code",
   "execution_count": 1,
   "metadata": {},
   "outputs": [],
   "source": [
    "import sys\n",
    "sys.path.append('..') # goes to project root\n",
    "\n",
    "from preparation.generators.Generator import Generator\n",
    "from IPython.display import display\n",
    "import pandas as pd\n",
    "import datetime\n",
    "import json\n",
    "\n",
    "pd.options.display.max_columns = None"
   ]
  },
  {
   "cell_type": "code",
   "execution_count": 2,
   "metadata": {},
   "outputs": [],
   "source": [
    "with open('../data/functional/races.json', 'rb') as f:\n",
    "    attr_map = json.load(f)"
   ]
  },
  {
   "cell_type": "code",
   "execution_count": 3,
   "metadata": {},
   "outputs": [],
   "source": [
    "hr = Generator(attr_map=attr_map)"
   ]
  },
  {
   "cell_type": "code",
   "execution_count": 4,
   "metadata": {},
   "outputs": [
    {
     "output_type": "stream",
     "name": "stdout",
     "text": [
      "Loaded 1000 replays out of 3456.\n"
     ]
    }
   ],
   "source": [
    "dfs = hr.load_replays('../data/raw/**/*.SC2Replay', limit=1000)"
   ]
  },
  {
   "cell_type": "code",
   "execution_count": 5,
   "metadata": {
    "tags": []
   },
   "outputs": [
    {
     "output_type": "stream",
     "name": "stdout",
     "text": [
      "Loading replay 1000/1000 | Loaded 100.00% of total!\n",
      "\n",
      "END: Found {'P': 0, 'T': 285, 'Z': 0} valid games (total=285) out of 3456.\n"
     ]
    }
   ],
   "source": [
    "dfs = hr.getData(verbose=False)"
   ]
  },
  {
   "cell_type": "code",
   "execution_count": 77,
   "metadata": {},
   "outputs": [
    {
     "output_type": "stream",
     "name": "stdout",
     "text": [
      "Negative total by column for P:\n  None\n\nNegative total by column for T:\n  orbitalcommand -34.0\n\nNegative total by column for Z:\n  None\n\n"
     ]
    }
   ],
   "source": [
    "for k in dfs.keys():\n",
    "    tmp_df = dfs[k]\n",
    "\n",
    "    negative_check = tmp_df[tmp_df.select_dtypes(exclude=['object']) < 0].sum()\n",
    "    negative_check = negative_check[negative_check < 0]\n",
    "\n",
    "    nice = list(zip(negative_check.index.to_list(), negative_check.to_list()))\n",
    "    if len(nice) > 0:\n",
    "        nice = '\\n'.join(['{} {}'.format(*n) for n in nice])\n",
    "    else:\n",
    "        nice = None\n",
    "\n",
    "    print('Negative total by column for {}:\\n  {}\\n'.format(k, nice))"
   ]
  },
  {
   "cell_type": "code",
   "execution_count": 8,
   "metadata": {},
   "outputs": [],
   "source": [
    "total_matches = sum(hr.valid_matches.values())\n",
    "date_str = datetime.datetime.now().strftime('%b-%d-%Y_%H%M%S').lower()\n",
    "\n",
    "filename = 'terran_{}_{}'.format(total_matches, date_str)\n",
    "T_df.to_csv('../data/processed/{}.csv'.format(filename))"
   ]
  },
  {
   "cell_type": "code",
   "execution_count": null,
   "metadata": {},
   "outputs": [],
   "source": []
  }
 ]
}