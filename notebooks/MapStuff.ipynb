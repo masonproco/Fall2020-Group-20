{
 "cells": [
  {
   "cell_type": "code",
   "execution_count": 21,
   "metadata": {},
   "outputs": [],
   "source": [
    "#Importing data from csv\n",
    "from pandas import read_csv\n",
    "import pandas as pd\n",
    "\n",
    "terran_data = read_csv('../Output/TerranStat.csv', header=0, index_col=False)"
   ]
  },
  {
   "cell_type": "code",
   "execution_count": 9,
   "metadata": {},
   "outputs": [
    {
     "name": "stdout",
     "output_type": "stream",
     "text": [
      "Number of Maps:  8\n",
      "Names of Maps:  [1 2 3 4 5 7 6 8]\n"
     ]
    }
   ],
   "source": [
    "#Basic Map Info\n",
    "\n",
    "#Number of unique Maps\n",
    "print('Number of Maps: ', terran_data['Map'].nunique())\n",
    "\n",
    "#The Name/Code for these unique Maps\n",
    "map_names = terran_data.Map.unique()\n",
    "print('Names/Codes of Maps: ', map_names)"
   ]
  },
  {
   "cell_type": "code",
   "execution_count": 136,
   "metadata": {},
   "outputs": [
    {
     "name": "stdout",
     "output_type": "stream",
     "text": [
      "Counter({5: 47, 4: 45, 2: 39, 7: 30, 3: 28, 6: 11, 8: 3, 1: 1})\n"
     ]
    }
   ],
   "source": [
    "#Counting the number of matches on each map\n",
    "\n",
    "from collections import Counter\n",
    "\n",
    "map_occurences = []\n",
    "result_occurences = []\n",
    "opponent_occurences = []\n",
    "\n",
    "#Going through all the match ups and recording the map, result & opponent\n",
    "for i in range(len(terran_data) - 1):\n",
    "    if terran_data['MatchID'][i] != terran_data['MatchID'][i+1]:\n",
    "        map_occurences.append(terran_data['Map'][i])\n",
    "        result_occurences.append(terran_data['Result'][i])\n",
    "        opponent_occurences.append(terran_data['Opponent'][i])\n",
    "    if i == (len(terran_data) - 2):\n",
    "        map_occurences.append(terran_data['Map'][len(terran_data) - 2])\n",
    "        result_occurences.append(terran_data['Result'][len(terran_data) - 2])\n",
    "        opponent_occurences.append(terran_data['Opponent'][len(terran_data) - 2])\n",
    "\n",
    "#Print the list of maps and how many matches were played on that map        \n",
    "print(Counter(map_occurences))"
   ]
  },
  {
   "cell_type": "code",
   "execution_count": 120,
   "metadata": {},
   "outputs": [],
   "source": [
    "#Counting the number of wins/loss on each map\n",
    "\n",
    "mapwin_dict = dict.fromkeys([1,2,3,4,5,6,7,8], 0)\n",
    "maplose_dict = dict.fromkeys([1,2,3,4,5,6,7,8], 0)\n",
    "\n",
    "for j in range(len(map_occurences)):\n",
    "    if result_occurences[j] == 'Win':\n",
    "        mapwin_dict[map_occurences[j]] = mapwin_dict[map_occurences[j]] + 1\n",
    "    else :\n",
    "        maplose_dict[map_occurences[j]] = maplose_dict[map_occurences[j]] + 1"
   ]
  },
  {
   "cell_type": "code",
   "execution_count": 135,
   "metadata": {
    "scrolled": false
   },
   "outputs": [
    {
     "name": "stdout",
     "output_type": "stream",
     "text": [
      "Win:  {1: 1.0, 2: 0.5897435897435898, 3: 0.5, 4: 0.4444444444444444, 5: 0.574468085106383, 6: 0.8181818181818182, 7: 0.5666666666666667, 8: 0.3333333333333333}\n",
      "Loss:  {1: 0.0, 2: 0.41025641025641024, 3: 0.5, 4: 0.5555555555555556, 5: 0.425531914893617, 6: 0.18181818181818182, 7: 0.43333333333333335, 8: 0.6666666666666666}\n"
     ]
    }
   ],
   "source": [
    "#Calculating the probability of win/loss by map\n",
    "\n",
    "mapwinrate_dict = dict.fromkeys([1,2,3,4,5,6,7,8], 0)\n",
    "maploserate_dict = dict.fromkeys([1,2,3,4,5,6,7,8], 0)\n",
    "\n",
    "for k in range(1, terran_data['Map'].nunique() + 1):\n",
    "    mapwinrate_dict[k] = mapwin_dict[k] / Counter(map_occurences)[k]\n",
    "    maploserate_dict[k] = maplose_dict[k] / Counter(map_occurences)[k]\n",
    "    \n",
    "#Probability of win\n",
    "print('Win: ', mapwinrate_dict)\n",
    "\n",
    "#Probability of loss\n",
    "print('Loss: ', maploserate_dict)"
   ]
  },
  {
   "cell_type": "code",
   "execution_count": 139,
   "metadata": {},
   "outputs": [],
   "source": [
    "#Counting the number of opponent's race on each map\n",
    "\n",
    "mapProtoss_dict = dict.fromkeys([1,2,3,4,5,6,7,8], 0)\n",
    "mapTerran_dict = dict.fromkeys([1,2,3,4,5,6,7,8], 0)\n",
    "mapZerg_dict = dict.fromkeys([1,2,3,4,5,6,7,8], 0)\n",
    "\n",
    "for l in range(len(map_occurences)):\n",
    "    if opponent_occurences[l] == 'Protoss':\n",
    "        mapProtoss_dict[map_occurences[l]] = mapProtoss_dict[map_occurences[l]] + 1\n",
    "    elif opponent_occurences[l] == 'Terran':\n",
    "        mapTerran_dict[map_occurences[l]] = mapTerran_dict[map_occurences[l]] + 1\n",
    "    else:\n",
    "        mapZerg_dict[map_occurences[l]] = mapZerg_dict[map_occurences[l]] + 1"
   ]
  },
  {
   "cell_type": "code",
   "execution_count": 142,
   "metadata": {},
   "outputs": [
    {
     "name": "stdout",
     "output_type": "stream",
     "text": [
      "Protoss:  {1: 1.0, 2: 0.3333333333333333, 3: 0.32142857142857145, 4: 0.3333333333333333, 5: 0.3829787234042553, 6: 0.36363636363636365, 7: 0.23333333333333334, 8: 0.0}\n",
      "Terran:  {1: 0.0, 2: 0.1282051282051282, 3: 0.21428571428571427, 4: 0.2, 5: 0.06382978723404255, 6: 0.45454545454545453, 7: 0.1, 8: 0.0}\n",
      "Zerg:  {1: 0.0, 2: 0.5384615384615384, 3: 0.4642857142857143, 4: 0.4666666666666667, 5: 0.5531914893617021, 6: 0.18181818181818182, 7: 0.6666666666666666, 8: 1.0}\n"
     ]
    }
   ],
   "source": [
    "#Calculating the probability of opponent's race by map\n",
    "\n",
    "mapProtossRate_dict = dict.fromkeys([1,2,3,4,5,6,7,8], 0)\n",
    "mapTerranRate_dict = dict.fromkeys([1,2,3,4,5,6,7,8], 0)\n",
    "mapZergRate_dict = dict.fromkeys([1,2,3,4,5,6,7,8], 0)\n",
    "\n",
    "for m in range(1, terran_data['Map'].nunique() + 1):\n",
    "    mapProtossRate_dict[m] = mapProtoss_dict[m] / Counter(map_occurences)[m]\n",
    "    mapTerranRate_dict[m] = mapTerran_dict[m] / Counter(map_occurences)[m]\n",
    "    mapZergRate_dict[m] = mapZerg_dict[m] / Counter(map_occurences)[m]\n",
    "    \n",
    "#Probability of Opponent being Protoss by map\n",
    "print('Protoss: ', mapProtossRate_dict)\n",
    "\n",
    "#Probability of Opponent being Terran by map\n",
    "print('Terran: ', mapTerranRate_dict)\n",
    "\n",
    "#Probability of Opponent being Zerg by map\n",
    "print('Zerg: ', mapZergRate_dict)"
   ]
  },
  {
   "cell_type": "code",
   "execution_count": 164,
   "metadata": {},
   "outputs": [
    {
     "name": "stdout",
     "output_type": "stream",
     "text": [
      "Counter({'Zerg': 106, 'Protoss': 67, 'Terran': 31})\n"
     ]
    }
   ],
   "source": [
    "#Print the Opponent's race and the number of matches against that race\n",
    "print(Counter(opponent_occurences))"
   ]
  },
  {
   "cell_type": "code",
   "execution_count": 149,
   "metadata": {},
   "outputs": [],
   "source": [
    "#Counting the number of win/loss by opponent's race\n",
    "\n",
    "opponentWin_dict = dict.fromkeys(['Protoss','Terran','Zerg'], 0)\n",
    "opponentLose_dict = dict.fromkeys(['Protoss','Terran','Zerg'], 0)\n",
    "\n",
    "for n in range(len(opponent_occurences)):\n",
    "    if result_occurences[n] == 'Win':\n",
    "        opponentWin_dict[opponent_occurences[n]] = opponentWin_dict[opponent_occurences[n]] + 1\n",
    "    else:\n",
    "        opponentLose_dict[opponent_occurences[n]] = opponentLose_dict[opponent_occurences[n]] + 1"
   ]
  },
  {
   "cell_type": "code",
   "execution_count": 165,
   "metadata": {},
   "outputs": [
    {
     "name": "stdout",
     "output_type": "stream",
     "text": [
      "Win Rate:  {'Protoss': 0.5671641791044776, 'Terran': 0.7096774193548387, 'Zerg': 0.49056603773584906}\n",
      "Lose Rate:  {'Protoss': 0.43283582089552236, 'Terran': 0.2903225806451613, 'Zerg': 0.5094339622641509}\n"
     ]
    }
   ],
   "source": [
    "#Calculating win/lose rate by opponent's race\n",
    "\n",
    "winRaceRate_dict = dict.fromkeys(['Protoss','Terran','Zerg'], 0)\n",
    "loseRaceRate_dict = dict.fromkeys(['Protoss','Terran','Zerg'], 0)\n",
    "\n",
    "#Protoss\n",
    "winRaceRate_dict['Protoss'] = opponentWin_dict['Protoss'] / Counter(opponent_occurences)['Protoss']\n",
    "loseRaceRate_dict['Protoss'] = opponentLose_dict['Protoss'] / Counter(opponent_occurences)['Protoss']\n",
    "\n",
    "#Terran\n",
    "winRaceRate_dict['Terran'] = opponentWin_dict['Terran'] / Counter(opponent_occurences)['Terran']\n",
    "loseRaceRate_dict['Terran'] = opponentLose_dict['Terran'] / Counter(opponent_occurences)['Terran']\n",
    "\n",
    "#Zerg\n",
    "winRaceRate_dict['Zerg'] = opponentWin_dict['Zerg'] / Counter(opponent_occurences)['Zerg']\n",
    "loseRaceRate_dict['Zerg'] = opponentLose_dict['Zerg'] / Counter(opponent_occurences)['Zerg']\n",
    "    \n",
    "#Probability of win against Opponent y race\n",
    "print('Win Rate: ', winRaceRate_dict)\n",
    "\n",
    "#Probability of loss against Opponent by race\n",
    "print('Lose Rate: ', loseRaceRate_dict)"
   ]
  }
 ],
 "metadata": {
  "kernelspec": {
   "display_name": "Python 3",
   "language": "python",
   "name": "python3"
  },
  "language_info": {
   "codemirror_mode": {
    "name": "ipython",
    "version": 3
   },
   "file_extension": ".py",
   "mimetype": "text/x-python",
   "name": "python",
   "nbconvert_exporter": "python",
   "pygments_lexer": "ipython3",
   "version": "3.7.7"
  }
 },
 "nbformat": 4,
 "nbformat_minor": 4
}
